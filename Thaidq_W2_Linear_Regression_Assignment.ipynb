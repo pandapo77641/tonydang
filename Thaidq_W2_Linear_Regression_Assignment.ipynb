{
  "nbformat": 4,
  "nbformat_minor": 0,
  "metadata": {
    "colab": {
      "name": "Thaidq-W2_Linear_Regression_Assignment.ipynb",
      "version": "0.3.2",
      "provenance": []
    },
    "language_info": {
      "codemirror_mode": {
        "name": "ipython",
        "version": 3
      },
      "file_extension": ".py",
      "mimetype": "text/x-python",
      "name": "python",
      "nbconvert_exporter": "python",
      "pygments_lexer": "ipython3",
      "version": "3.6.5"
    },
    "kernelspec": {
      "display_name": "Python 3",
      "language": "python",
      "name": "python3"
    }
  },
  "cells": [
    {
      "cell_type": "markdown",
      "metadata": {
        "id": "e1onCfVdbg0J",
        "colab_type": "text"
      },
      "source": [
        "\n",
        "# Linear Regression\n",
        "\n",
        "Congratulations! You just got some contract work with an Ecommerce company that sells clothing online but they also have in-store style and clothing advice sessions. Customers come in to the store, have sessions/meetings with a personal stylist, then they can go home and order either on a mobile app or website for the clothes they want.\n",
        "\n",
        "The company is trying to decide whether to focus their efforts on their mobile app experience or their website. They've hired you on contract to help them figure it out! Let's get started!\n",
        "\n",
        "Just follow the steps below to analyze the customer data (it's fake, don't worry I didn't give you real credit card numbers or emails)."
      ]
    },
    {
      "cell_type": "markdown",
      "metadata": {
        "id": "ofApZGrabg0L",
        "colab_type": "text"
      },
      "source": [
        "## Imports\n",
        "** Import pandas, numpy, matplotlib,and seaborn. Then set %matplotlib inline \n",
        "(You'll import sklearn as you need it.)**"
      ]
    },
    {
      "cell_type": "code",
      "metadata": {
        "id": "DbG7qHdebg0Q",
        "colab_type": "code",
        "colab": {}
      },
      "source": [
        "import pandas as pd\n",
        "import numpy as np\n",
        "import seaborn as sns\n",
        "import matplotlib.pyplot as plt\n",
        "%matplotlib inline"
      ],
      "execution_count": 0,
      "outputs": []
    },
    {
      "cell_type": "markdown",
      "metadata": {
        "id": "cop3Ff7Ybg0a",
        "colab_type": "text"
      },
      "source": [
        "## Get the Data\n",
        "\n",
        "We'll work with the Ecommerce Customers csv file from the company. It has Customer info, suchas Email, Address, and their color Avatar. Then it also has numerical value columns:\n",
        "\n",
        "* Avg. Session Length: Average session of in-store style advice sessions.\n",
        "* Time on App: Average time spent on App in minutes\n",
        "* Time on Website: Average time spent on Website in minutes\n",
        "* Length of Membership: How many years the customer has been a member.\n",
        "\n",
        "** 1. Read in the Ecommerce Customers csv file as a DataFrame called customers. __5pts__**"
      ]
    },
    {
      "cell_type": "code",
      "metadata": {
        "id": "NZHOGUO6bg0c",
        "colab_type": "code",
        "colab": {}
      },
      "source": [
        "eco = pd.read_csv('https://s3-ap-southeast-1.amazonaws.com/ml101-khanhnguyen/week2/assignment/Ecommerce.csv')"
      ],
      "execution_count": 0,
      "outputs": []
    },
    {
      "cell_type": "markdown",
      "metadata": {
        "id": "YiQUIcFtbg0j",
        "colab_type": "text"
      },
      "source": [
        "**Check the head of customers, and check out its info() and describe() methods.**"
      ]
    },
    {
      "cell_type": "code",
      "metadata": {
        "id": "wAN_Y1Yabg0k",
        "colab_type": "code",
        "outputId": "95523410-678f-4668-cc9c-b921a4a45388",
        "colab": {
          "base_uri": "https://localhost:8080/",
          "height": 306
        }
      },
      "source": [
        "eco.head()"
      ],
      "execution_count": 3,
      "outputs": [
        {
          "output_type": "execute_result",
          "data": {
            "text/html": [
              "<div>\n",
              "<style scoped>\n",
              "    .dataframe tbody tr th:only-of-type {\n",
              "        vertical-align: middle;\n",
              "    }\n",
              "\n",
              "    .dataframe tbody tr th {\n",
              "        vertical-align: top;\n",
              "    }\n",
              "\n",
              "    .dataframe thead th {\n",
              "        text-align: right;\n",
              "    }\n",
              "</style>\n",
              "<table border=\"1\" class=\"dataframe\">\n",
              "  <thead>\n",
              "    <tr style=\"text-align: right;\">\n",
              "      <th></th>\n",
              "      <th>Email</th>\n",
              "      <th>Address</th>\n",
              "      <th>Avatar</th>\n",
              "      <th>Avg. Session Length</th>\n",
              "      <th>Time on App</th>\n",
              "      <th>Time on Website</th>\n",
              "      <th>Length of Membership</th>\n",
              "      <th>Yearly Amount Spent</th>\n",
              "    </tr>\n",
              "  </thead>\n",
              "  <tbody>\n",
              "    <tr>\n",
              "      <th>0</th>\n",
              "      <td>mstephenson@fernandez.com</td>\n",
              "      <td>835 Frank Tunnel\\nWrightmouth, MI 82180-9605</td>\n",
              "      <td>Violet</td>\n",
              "      <td>34.497268</td>\n",
              "      <td>12.655651</td>\n",
              "      <td>39.577668</td>\n",
              "      <td>4.082621</td>\n",
              "      <td>587.951054</td>\n",
              "    </tr>\n",
              "    <tr>\n",
              "      <th>1</th>\n",
              "      <td>hduke@hotmail.com</td>\n",
              "      <td>4547 Archer Common\\nDiazchester, CA 06566-8576</td>\n",
              "      <td>DarkGreen</td>\n",
              "      <td>31.926272</td>\n",
              "      <td>11.109461</td>\n",
              "      <td>37.268959</td>\n",
              "      <td>2.664034</td>\n",
              "      <td>392.204933</td>\n",
              "    </tr>\n",
              "    <tr>\n",
              "      <th>2</th>\n",
              "      <td>pallen@yahoo.com</td>\n",
              "      <td>24645 Valerie Unions Suite 582\\nCobbborough, D...</td>\n",
              "      <td>Bisque</td>\n",
              "      <td>33.000915</td>\n",
              "      <td>11.330278</td>\n",
              "      <td>37.110597</td>\n",
              "      <td>4.104543</td>\n",
              "      <td>487.547505</td>\n",
              "    </tr>\n",
              "    <tr>\n",
              "      <th>3</th>\n",
              "      <td>riverarebecca@gmail.com</td>\n",
              "      <td>1414 David Throughway\\nPort Jason, OH 22070-1220</td>\n",
              "      <td>SaddleBrown</td>\n",
              "      <td>34.305557</td>\n",
              "      <td>13.717514</td>\n",
              "      <td>36.721283</td>\n",
              "      <td>3.120179</td>\n",
              "      <td>581.852344</td>\n",
              "    </tr>\n",
              "    <tr>\n",
              "      <th>4</th>\n",
              "      <td>mstephens@davidson-herman.com</td>\n",
              "      <td>14023 Rodriguez Passage\\nPort Jacobville, PR 3...</td>\n",
              "      <td>MediumAquaMarine</td>\n",
              "      <td>33.330673</td>\n",
              "      <td>12.795189</td>\n",
              "      <td>37.536653</td>\n",
              "      <td>4.446308</td>\n",
              "      <td>599.406092</td>\n",
              "    </tr>\n",
              "  </tbody>\n",
              "</table>\n",
              "</div>"
            ],
            "text/plain": [
              "                           Email  \\\n",
              "0      mstephenson@fernandez.com   \n",
              "1              hduke@hotmail.com   \n",
              "2               pallen@yahoo.com   \n",
              "3        riverarebecca@gmail.com   \n",
              "4  mstephens@davidson-herman.com   \n",
              "\n",
              "                                             Address            Avatar  \\\n",
              "0       835 Frank Tunnel\\nWrightmouth, MI 82180-9605            Violet   \n",
              "1     4547 Archer Common\\nDiazchester, CA 06566-8576         DarkGreen   \n",
              "2  24645 Valerie Unions Suite 582\\nCobbborough, D...            Bisque   \n",
              "3   1414 David Throughway\\nPort Jason, OH 22070-1220       SaddleBrown   \n",
              "4  14023 Rodriguez Passage\\nPort Jacobville, PR 3...  MediumAquaMarine   \n",
              "\n",
              "   Avg. Session Length  Time on App  Time on Website  Length of Membership  \\\n",
              "0            34.497268    12.655651        39.577668              4.082621   \n",
              "1            31.926272    11.109461        37.268959              2.664034   \n",
              "2            33.000915    11.330278        37.110597              4.104543   \n",
              "3            34.305557    13.717514        36.721283              3.120179   \n",
              "4            33.330673    12.795189        37.536653              4.446308   \n",
              "\n",
              "   Yearly Amount Spent  \n",
              "0           587.951054  \n",
              "1           392.204933  \n",
              "2           487.547505  \n",
              "3           581.852344  \n",
              "4           599.406092  "
            ]
          },
          "metadata": {
            "tags": []
          },
          "execution_count": 3
        }
      ]
    },
    {
      "cell_type": "code",
      "metadata": {
        "id": "x3RNR1GBbg0z",
        "colab_type": "code",
        "outputId": "a7b3517c-f54d-46ff-8308-46a1d6d571a4",
        "colab": {
          "base_uri": "https://localhost:8080/",
          "height": 297
        }
      },
      "source": [
        "#Hint: describe()\n",
        "eco.describe()"
      ],
      "execution_count": 4,
      "outputs": [
        {
          "output_type": "execute_result",
          "data": {
            "text/html": [
              "<div>\n",
              "<style scoped>\n",
              "    .dataframe tbody tr th:only-of-type {\n",
              "        vertical-align: middle;\n",
              "    }\n",
              "\n",
              "    .dataframe tbody tr th {\n",
              "        vertical-align: top;\n",
              "    }\n",
              "\n",
              "    .dataframe thead th {\n",
              "        text-align: right;\n",
              "    }\n",
              "</style>\n",
              "<table border=\"1\" class=\"dataframe\">\n",
              "  <thead>\n",
              "    <tr style=\"text-align: right;\">\n",
              "      <th></th>\n",
              "      <th>Avg. Session Length</th>\n",
              "      <th>Time on App</th>\n",
              "      <th>Time on Website</th>\n",
              "      <th>Length of Membership</th>\n",
              "      <th>Yearly Amount Spent</th>\n",
              "    </tr>\n",
              "  </thead>\n",
              "  <tbody>\n",
              "    <tr>\n",
              "      <th>count</th>\n",
              "      <td>500.000000</td>\n",
              "      <td>500.000000</td>\n",
              "      <td>500.000000</td>\n",
              "      <td>500.000000</td>\n",
              "      <td>500.000000</td>\n",
              "    </tr>\n",
              "    <tr>\n",
              "      <th>mean</th>\n",
              "      <td>33.053194</td>\n",
              "      <td>12.052488</td>\n",
              "      <td>37.060445</td>\n",
              "      <td>3.533462</td>\n",
              "      <td>499.314038</td>\n",
              "    </tr>\n",
              "    <tr>\n",
              "      <th>std</th>\n",
              "      <td>0.992563</td>\n",
              "      <td>0.994216</td>\n",
              "      <td>1.010489</td>\n",
              "      <td>0.999278</td>\n",
              "      <td>79.314782</td>\n",
              "    </tr>\n",
              "    <tr>\n",
              "      <th>min</th>\n",
              "      <td>29.532429</td>\n",
              "      <td>8.508152</td>\n",
              "      <td>33.913847</td>\n",
              "      <td>0.269901</td>\n",
              "      <td>256.670582</td>\n",
              "    </tr>\n",
              "    <tr>\n",
              "      <th>25%</th>\n",
              "      <td>32.341822</td>\n",
              "      <td>11.388153</td>\n",
              "      <td>36.349257</td>\n",
              "      <td>2.930450</td>\n",
              "      <td>445.038277</td>\n",
              "    </tr>\n",
              "    <tr>\n",
              "      <th>50%</th>\n",
              "      <td>33.082008</td>\n",
              "      <td>11.983231</td>\n",
              "      <td>37.069367</td>\n",
              "      <td>3.533975</td>\n",
              "      <td>498.887875</td>\n",
              "    </tr>\n",
              "    <tr>\n",
              "      <th>75%</th>\n",
              "      <td>33.711985</td>\n",
              "      <td>12.753850</td>\n",
              "      <td>37.716432</td>\n",
              "      <td>4.126502</td>\n",
              "      <td>549.313828</td>\n",
              "    </tr>\n",
              "    <tr>\n",
              "      <th>max</th>\n",
              "      <td>36.139662</td>\n",
              "      <td>15.126994</td>\n",
              "      <td>40.005182</td>\n",
              "      <td>6.922689</td>\n",
              "      <td>765.518462</td>\n",
              "    </tr>\n",
              "  </tbody>\n",
              "</table>\n",
              "</div>"
            ],
            "text/plain": [
              "       Avg. Session Length  Time on App  Time on Website  \\\n",
              "count           500.000000   500.000000       500.000000   \n",
              "mean             33.053194    12.052488        37.060445   \n",
              "std               0.992563     0.994216         1.010489   \n",
              "min              29.532429     8.508152        33.913847   \n",
              "25%              32.341822    11.388153        36.349257   \n",
              "50%              33.082008    11.983231        37.069367   \n",
              "75%              33.711985    12.753850        37.716432   \n",
              "max              36.139662    15.126994        40.005182   \n",
              "\n",
              "       Length of Membership  Yearly Amount Spent  \n",
              "count            500.000000           500.000000  \n",
              "mean               3.533462           499.314038  \n",
              "std                0.999278            79.314782  \n",
              "min                0.269901           256.670582  \n",
              "25%                2.930450           445.038277  \n",
              "50%                3.533975           498.887875  \n",
              "75%                4.126502           549.313828  \n",
              "max                6.922689           765.518462  "
            ]
          },
          "metadata": {
            "tags": []
          },
          "execution_count": 4
        }
      ]
    },
    {
      "cell_type": "code",
      "metadata": {
        "id": "FNMbCXAdbg07",
        "colab_type": "code",
        "outputId": "8bbc3e73-9e64-4945-d0fd-c3d04181fa72",
        "colab": {
          "base_uri": "https://localhost:8080/",
          "height": 238
        }
      },
      "source": [
        "eco.info()"
      ],
      "execution_count": 5,
      "outputs": [
        {
          "output_type": "stream",
          "text": [
            "<class 'pandas.core.frame.DataFrame'>\n",
            "RangeIndex: 500 entries, 0 to 499\n",
            "Data columns (total 8 columns):\n",
            "Email                   500 non-null object\n",
            "Address                 500 non-null object\n",
            "Avatar                  500 non-null object\n",
            "Avg. Session Length     500 non-null float64\n",
            "Time on App             500 non-null float64\n",
            "Time on Website         500 non-null float64\n",
            "Length of Membership    500 non-null float64\n",
            "Yearly Amount Spent     500 non-null float64\n",
            "dtypes: float64(5), object(3)\n",
            "memory usage: 31.3+ KB\n"
          ],
          "name": "stdout"
        }
      ]
    },
    {
      "cell_type": "markdown",
      "metadata": {
        "id": "wuKiUbGDbg1I",
        "colab_type": "text"
      },
      "source": [
        "## Exploratory Data Analysis\n",
        "\n",
        "**Let's explore the data!**\n",
        "\n",
        "For the rest of the exercise we'll only be using the numerical data of the csv file.\n",
        "___\n",
        "**2. Use seaborn to create a jointplot to compare the Time on Website and Yearly Amount Spent columns. Does the correlation make sense?**\n",
        "5pts"
      ]
    },
    {
      "cell_type": "code",
      "metadata": {
        "id": "Dc5FasPhbg1J",
        "colab_type": "code",
        "outputId": "b1884024-3121-4701-ca30-5a0d8e076265",
        "colab": {
          "base_uri": "https://localhost:8080/",
          "height": 458
        }
      },
      "source": [
        "sns.jointplot(x='Time on Website', y = 'Yearly Amount Spent', data = eco)"
      ],
      "execution_count": 6,
      "outputs": [
        {
          "output_type": "execute_result",
          "data": {
            "text/plain": [
              "<seaborn.axisgrid.JointGrid at 0x7f9f0e9939e8>"
            ]
          },
          "metadata": {
            "tags": []
          },
          "execution_count": 6
        },
        {
          "output_type": "display_data",
          "data": {
            "image/png": "[encoded data removed]",
            "text/plain": [
              "<Figure size 432x432 with 3 Axes>"
            ]
          },
          "metadata": {
            "tags": []
          }
        }
      ]
    },
    {
      "cell_type": "markdown",
      "metadata": {
        "id": "BFpkIyt-bg1c",
        "colab_type": "text"
      },
      "source": [
        "** 3. Do the same but with the Time on App column instead. **\n",
        "5pts"
      ]
    },
    {
      "cell_type": "code",
      "metadata": {
        "id": "L0VT4_7h5Eoj",
        "colab_type": "code",
        "outputId": "71b7e3ea-fdce-4741-dc03-f1b61b8c10d7",
        "colab": {
          "base_uri": "https://localhost:8080/",
          "height": 458
        }
      },
      "source": [
        "sns.jointplot(x = 'Time on App', y = 'Yearly Amount Spent', data = eco)"
      ],
      "execution_count": 7,
      "outputs": [
        {
          "output_type": "execute_result",
          "data": {
            "text/plain": [
              "<seaborn.axisgrid.JointGrid at 0x7f9f0bf99860>"
            ]
          },
          "metadata": {
            "tags": []
          },
          "execution_count": 7
        },
        {
          "output_type": "display_data",
          "data": {
            "image/png": "[encoded data removed]",
            "text/plain": [
              "<Figure size 432x432 with 3 Axes>"
            ]
          },
          "metadata": {
            "tags": []
          }
        }
      ]
    },
    {
      "cell_type": "markdown",
      "metadata": {
        "id": "wWc1y4uFbg1q",
        "colab_type": "text"
      },
      "source": [
        "** 4. Use jointplot to create a 2D hex bin plot comparing Time on App and Length of Membership.**\n",
        "5pts\n",
        "\n",
        "keyword: seaborn, jointplot, kind='hex'"
      ]
    },
    {
      "cell_type": "code",
      "metadata": {
        "id": "_ZPx_Nyp5itk",
        "colab_type": "code",
        "outputId": "f0800d89-abf4-40ab-bc01-0a20a0c87740",
        "colab": {
          "base_uri": "https://localhost:8080/",
          "height": 458
        }
      },
      "source": [
        "sns.jointplot(x = 'Time on App', y = 'Length of Membership', data = eco, kind = 'hex')"
      ],
      "execution_count": 8,
      "outputs": [
        {
          "output_type": "execute_result",
          "data": {
            "text/plain": [
              "<seaborn.axisgrid.JointGrid at 0x7f9f0bf99240>"
            ]
          },
          "metadata": {
            "tags": []
          },
          "execution_count": 8
        },
        {
          "output_type": "display_data",
          "data": {
            "image/png": "[encoded data removed]",
            "text/plain": [
              "<Figure size 432x432 with 3 Axes>"
            ]
          },
          "metadata": {
            "tags": []
          }
        }
      ]
    },
    {
      "cell_type": "markdown",
      "metadata": {
        "id": "3Hj552wtbg1w",
        "colab_type": "text"
      },
      "source": [
        "**5. Let's explore correlation across the entire data set. Use [heatmap](https://tryolabs.com/blog/2017/03/16/pandas-seaborn-a-guide-to-handle-visualize-data-elegantly/) to create the chart which represents correlation between each columns.(Don't worry about the the colors)**\n",
        "5pts"
      ]
    },
    {
      "cell_type": "code",
      "metadata": {
        "id": "wqKGuwRN7LwF",
        "colab_type": "code",
        "outputId": "5705e775-88cf-4f92-90b1-81d514607440",
        "colab": {
          "base_uri": "https://localhost:8080/",
          "height": 388
        }
      },
      "source": [
        "sns.heatmap(eco.corr(), annot = True, fmt = '.3f',  cmap='YlGnBu')"
      ],
      "execution_count": 9,
      "outputs": [
        {
          "output_type": "execute_result",
          "data": {
            "text/plain": [
              "<matplotlib.axes._subplots.AxesSubplot at 0x7f9f0bcc0ba8>"
            ]
          },
          "metadata": {
            "tags": []
          },
          "execution_count": 9
        },
        {
          "output_type": "display_data",
          "data": {
            "image/png": "[encoded data removed]",
            "text/plain": [
              "<Figure size 432x288 with 2 Axes>"
            ]
          },
          "metadata": {
            "tags": []
          }
        }
      ]
    },
    {
      "cell_type": "markdown",
      "metadata": {
        "id": "tqEZUrt4bg18",
        "colab_type": "text"
      },
      "source": [
        "**6. Based off this plot what looks to be the most correlated feature with Yearly Amount Spent?**\n",
        "5pts"
      ]
    },
    {
      "cell_type": "code",
      "metadata": {
        "id": "fmy6EuXrbg1-",
        "colab_type": "code",
        "colab": {}
      },
      "source": [
        "#The most correlated feature with Yearly Amount Spent is Length of Membership\n"
      ],
      "execution_count": 0,
      "outputs": []
    },
    {
      "cell_type": "markdown",
      "metadata": {
        "id": "pV2-qjkabg2J",
        "colab_type": "text"
      },
      "source": [
        "**7. Create a linear model plot (using seaborn's lmplot) of  Yearly Amount Spent vs. Length of Membership. **\n",
        "5pts"
      ]
    },
    {
      "cell_type": "code",
      "metadata": {
        "id": "fG1eqVh8F5kD",
        "colab_type": "code",
        "colab": {}
      },
      "source": [
        "from sklearn.linear_model import LinearRegression\n",
        "from sklearn.preprocessing import PolynomialFeatures"
      ],
      "execution_count": 0,
      "outputs": []
    },
    {
      "cell_type": "code",
      "metadata": {
        "id": "9A8IlI4l3vaz",
        "colab_type": "code",
        "outputId": "04357bfe-1b14-4e0b-a572-836d2d9da990",
        "colab": {
          "base_uri": "https://localhost:8080/",
          "height": 300
        }
      },
      "source": [
        "plt.scatter(y = eco['Yearly Amount Spent'], x = eco['Length of Membership'])\n",
        "plt.xlabel('Length of Membership')\n",
        "plt.ylabel('Yearly Amount Spent')"
      ],
      "execution_count": 11,
      "outputs": [
        {
          "output_type": "execute_result",
          "data": {
            "text/plain": [
              "Text(0, 0.5, 'Yearly Amount Spent')"
            ]
          },
          "metadata": {
            "tags": []
          },
          "execution_count": 11
        },
        {
          "output_type": "display_data",
          "data": {
            "image/png": "[encoded data removed]",
            "text/plain": [
              "<Figure size 432x288 with 1 Axes>"
            ]
          },
          "metadata": {
            "tags": []
          }
        }
      ]
    },
    {
      "cell_type": "code",
      "metadata": {
        "id": "7_lvbc3wbg2L",
        "colab_type": "code",
        "outputId": "b482b8d5-222d-4a4c-dca9-be3c014f3199",
        "colab": {}
      },
      "source": [
        ""
      ],
      "execution_count": 0,
      "outputs": [
        {
          "output_type": "execute_result",
          "data": {
            "text/plain": [
              "<seaborn.axisgrid.FacetGrid at 0x7f470a46a940>"
            ]
          },
          "metadata": {
            "tags": []
          },
          "execution_count": 13
        },
        {
          "output_type": "display_data",
          "data": {
            "image/png": "[encoded data removed]",
            "text/plain": [
              "<Figure size 360x360 with 1 Axes>"
            ]
          },
          "metadata": {
            "tags": []
          }
        }
      ]
    },
    {
      "cell_type": "markdown",
      "metadata": {
        "id": "q92qhT-wbg2Y",
        "colab_type": "text"
      },
      "source": [
        "## Training and Testing Data\n",
        "\n",
        "**8.** Now that we've explored the data a bit, let's go ahead and split the data into training and testing sets.\n",
        "** Set a variable X equal to the numerical features of the customers and a variable y equal to the \"Yearly Amount Spent\" column. **\n",
        "5pts"
      ]
    },
    {
      "cell_type": "code",
      "metadata": {
        "id": "4s92ev_Sbg2b",
        "colab_type": "code",
        "outputId": "352e633a-fa8f-40f5-9799-cfbb5ce6e147",
        "colab": {
          "base_uri": "https://localhost:8080/",
          "height": 204
        }
      },
      "source": [
        "from sklearn.model_selection import train_test_split\n",
        "X = eco.drop(columns = ['Yearly Amount Spent', 'Email', 'Address', 'Avatar'])\n",
        "y = eco['Yearly Amount Spent']\n",
        "X.head()"
      ],
      "execution_count": 13,
      "outputs": [
        {
          "output_type": "execute_result",
          "data": {
            "text/html": [
              "<div>\n",
              "<style scoped>\n",
              "    .dataframe tbody tr th:only-of-type {\n",
              "        vertical-align: middle;\n",
              "    }\n",
              "\n",
              "    .dataframe tbody tr th {\n",
              "        vertical-align: top;\n",
              "    }\n",
              "\n",
              "    .dataframe thead th {\n",
              "        text-align: right;\n",
              "    }\n",
              "</style>\n",
              "<table border=\"1\" class=\"dataframe\">\n",
              "  <thead>\n",
              "    <tr style=\"text-align: right;\">\n",
              "      <th></th>\n",
              "      <th>Avg. Session Length</th>\n",
              "      <th>Time on App</th>\n",
              "      <th>Time on Website</th>\n",
              "      <th>Length of Membership</th>\n",
              "    </tr>\n",
              "  </thead>\n",
              "  <tbody>\n",
              "    <tr>\n",
              "      <th>0</th>\n",
              "      <td>34.497268</td>\n",
              "      <td>12.655651</td>\n",
              "      <td>39.577668</td>\n",
              "      <td>4.082621</td>\n",
              "    </tr>\n",
              "    <tr>\n",
              "      <th>1</th>\n",
              "      <td>31.926272</td>\n",
              "      <td>11.109461</td>\n",
              "      <td>37.268959</td>\n",
              "      <td>2.664034</td>\n",
              "    </tr>\n",
              "    <tr>\n",
              "      <th>2</th>\n",
              "      <td>33.000915</td>\n",
              "      <td>11.330278</td>\n",
              "      <td>37.110597</td>\n",
              "      <td>4.104543</td>\n",
              "    </tr>\n",
              "    <tr>\n",
              "      <th>3</th>\n",
              "      <td>34.305557</td>\n",
              "      <td>13.717514</td>\n",
              "      <td>36.721283</td>\n",
              "      <td>3.120179</td>\n",
              "    </tr>\n",
              "    <tr>\n",
              "      <th>4</th>\n",
              "      <td>33.330673</td>\n",
              "      <td>12.795189</td>\n",
              "      <td>37.536653</td>\n",
              "      <td>4.446308</td>\n",
              "    </tr>\n",
              "  </tbody>\n",
              "</table>\n",
              "</div>"
            ],
            "text/plain": [
              "   Avg. Session Length  Time on App  Time on Website  Length of Membership\n",
              "0            34.497268    12.655651        39.577668              4.082621\n",
              "1            31.926272    11.109461        37.268959              2.664034\n",
              "2            33.000915    11.330278        37.110597              4.104543\n",
              "3            34.305557    13.717514        36.721283              3.120179\n",
              "4            33.330673    12.795189        37.536653              4.446308"
            ]
          },
          "metadata": {
            "tags": []
          },
          "execution_count": 13
        }
      ]
    },
    {
      "cell_type": "code",
      "metadata": {
        "id": "ldwqM8QSbg2k",
        "colab_type": "code",
        "colab": {}
      },
      "source": [
        ""
      ],
      "execution_count": 0,
      "outputs": []
    },
    {
      "cell_type": "markdown",
      "metadata": {
        "id": "-ZTHboDDbg2r",
        "colab_type": "text"
      },
      "source": [
        "**9. Use model_selection.train_test_split from sklearn to split the data into training and testing sets. Set test_size=0.3 and random_state=101**\n",
        "5pts"
      ]
    },
    {
      "cell_type": "code",
      "metadata": {
        "id": "M9Fc3k1Cbg2w",
        "colab_type": "code",
        "colab": {}
      },
      "source": [
        "X_train, X_test, y_train, y_test = train_test_split(X, y, test_size=0.3, random_state=101)"
      ],
      "execution_count": 0,
      "outputs": []
    },
    {
      "cell_type": "code",
      "metadata": {
        "id": "9PeN2stRbg27",
        "colab_type": "code",
        "outputId": "63799176-d824-4fb4-9cde-01c46d338631",
        "colab": {
          "base_uri": "https://localhost:8080/",
          "height": 269
        }
      },
      "source": [
        "plt.figure()\n",
        "plt.scatter(X_train['Length of Membership'], y_train)\n",
        "plt.scatter(X_test['Length of Membership'], y_test)\n",
        "plt.show()"
      ],
      "execution_count": 17,
      "outputs": [
        {
          "output_type": "display_data",
          "data": {
            "image/png": "[encoded data removed]",
            "text/plain": [
              "<Figure size 432x288 with 1 Axes>"
            ]
          },
          "metadata": {
            "tags": []
          }
        }
      ]
    },
    {
      "cell_type": "markdown",
      "metadata": {
        "id": "llLVDmrabg3K",
        "colab_type": "text"
      },
      "source": [
        "## Training the Model\n",
        "\n",
        "Now its time to train our model on our training data!\n",
        "\n",
        "**10. Import LinearRegression from sklearn.linear_model **\n",
        "5pts"
      ]
    },
    {
      "cell_type": "code",
      "metadata": {
        "id": "6u4f3aXsbg3Q",
        "colab_type": "code",
        "colab": {}
      },
      "source": [
        "from sklearn.linear_model import LinearRegression"
      ],
      "execution_count": 0,
      "outputs": []
    },
    {
      "cell_type": "markdown",
      "metadata": {
        "id": "cHA5WTKEbg3U",
        "colab_type": "text"
      },
      "source": [
        "**11. Create an instance of a LinearRegression() model named lm.**\n",
        "5pts"
      ]
    },
    {
      "cell_type": "code",
      "metadata": {
        "id": "F0knGtSObg3Y",
        "colab_type": "code",
        "colab": {}
      },
      "source": [
        "lm = LinearRegression()"
      ],
      "execution_count": 0,
      "outputs": []
    },
    {
      "cell_type": "markdown",
      "metadata": {
        "id": "dVRsT1mhbg3i",
        "colab_type": "text"
      },
      "source": [
        "**12. Train/fit lm on the training data.**\n",
        "5pts"
      ]
    },
    {
      "cell_type": "code",
      "metadata": {
        "id": "581nAYaybg3p",
        "colab_type": "code",
        "outputId": "1c2cf9f0-2f06-436a-c619-88c986ef55be",
        "colab": {
          "base_uri": "https://localhost:8080/",
          "height": 51
        }
      },
      "source": [
        "lm.fit(X_train, y_train)"
      ],
      "execution_count": 20,
      "outputs": [
        {
          "output_type": "execute_result",
          "data": {
            "text/plain": [
              "LinearRegression(copy_X=True, fit_intercept=True, n_jobs=None,\n",
              "         normalize=False)"
            ]
          },
          "metadata": {
            "tags": []
          },
          "execution_count": 20
        }
      ]
    },
    {
      "cell_type": "markdown",
      "metadata": {
        "id": "zk9V3GQBbg3w",
        "colab_type": "text"
      },
      "source": [
        "**13. Print out the coefficients of the model**\n",
        "5pts"
      ]
    },
    {
      "cell_type": "code",
      "metadata": {
        "id": "GwdBPG8Kbg3x",
        "colab_type": "code",
        "outputId": "4e237146-f41d-43bf-be2e-9c2fcf489aa2",
        "colab": {
          "base_uri": "https://localhost:8080/",
          "height": 34
        }
      },
      "source": [
        "# Hint: coef_\n",
        "lm.coef_"
      ],
      "execution_count": 21,
      "outputs": [
        {
          "output_type": "execute_result",
          "data": {
            "text/plain": [
              "array([25.98154972, 38.59015875,  0.19040528, 61.27909654])"
            ]
          },
          "metadata": {
            "tags": []
          },
          "execution_count": 21
        }
      ]
    },
    {
      "cell_type": "markdown",
      "metadata": {
        "id": "ADDpmdm7bg3-",
        "colab_type": "text"
      },
      "source": [
        "## Predicting Test Data\n",
        "Now that we have fit our model, let's evaluate its performance by predicting off the test values!\n",
        "\n",
        "**14. Use lm.predict() to predict off the X_test set of the data.**\n",
        "5pts"
      ]
    },
    {
      "cell_type": "code",
      "metadata": {
        "id": "5D-z3-8wbg3_",
        "colab_type": "code",
        "colab": {}
      },
      "source": [
        "y_predict=lm.predict(X_test )"
      ],
      "execution_count": 0,
      "outputs": []
    },
    {
      "cell_type": "markdown",
      "metadata": {
        "id": "aqmska0Fbg4C",
        "colab_type": "text"
      },
      "source": [
        "**15. Create a scatterplot of the real test values versus the predicted values. **\n",
        "5pts"
      ]
    },
    {
      "cell_type": "code",
      "metadata": {
        "id": "WsTr2HuRPtAP",
        "colab_type": "code",
        "outputId": "a7b1b8bb-5884-46b1-f5d2-ac041030f259",
        "colab": {
          "base_uri": "https://localhost:8080/",
          "height": 286
        }
      },
      "source": [
        "plt.scatter(x = y_predict, y = y_test)"
      ],
      "execution_count": 23,
      "outputs": [
        {
          "output_type": "execute_result",
          "data": {
            "text/plain": [
              "<matplotlib.collections.PathCollection at 0x7f9f06df5c50>"
            ]
          },
          "metadata": {
            "tags": []
          },
          "execution_count": 23
        },
        {
          "output_type": "display_data",
          "data": {
            "image/png": "[encoded data removed]",
            "text/plain": [
              "<Figure size 432x288 with 1 Axes>"
            ]
          },
          "metadata": {
            "tags": []
          }
        }
      ]
    },
    {
      "cell_type": "code",
      "metadata": {
        "id": "EhY_oxyzbg4D",
        "colab_type": "code",
        "outputId": "95ee5b95-aa58-4075-91de-d5ceb8b11f06",
        "colab": {}
      },
      "source": [
        ""
      ],
      "execution_count": 0,
      "outputs": [
        {
          "output_type": "execute_result",
          "data": {
            "text/plain": [
              "Text(0,0.5,'Predicted Y')"
            ]
          },
          "metadata": {
            "tags": []
          },
          "execution_count": 24
        },
        {
          "output_type": "display_data",
          "data": {
            "image/png": "[encoded data removed]",
            "text/plain": [
              "<Figure size 432x288 with 1 Axes>"
            ]
          },
          "metadata": {
            "tags": []
          }
        }
      ]
    },
    {
      "cell_type": "markdown",
      "metadata": {
        "id": "ty-vpy0ebg4L",
        "colab_type": "text"
      },
      "source": [
        "## Evaluating the Model\n",
        "\n",
        "Let's evaluate our model performance by calculating the residual sum of squares.\n",
        "\n",
        "**16. Calculate: Calculate the Mean Absolute Error, Mean Squared Error, and the Root Mean Squared Error**\n",
        "10pts\n",
        "\n",
        "Note: Refer to those links for the formulas\n",
        "\n",
        "[Mean Absolute Error(MAE)](https://en.wikipedia.org/wiki/Mean_absolute_error)\n",
        "\n",
        "[Mean Squared Error(MSE)](https://en.wikipedia.org/wiki/Mean_squared_error)\n",
        "\n",
        "[Root Mean Squared Error(RMSE)]()\n",
        "\n",
        "Reference\n",
        "\n",
        "[MAE and RMSE](https://medium.com/human-in-a-machine-world/mae-and-rmse-which-metric-is-better-e60ac3bde13d)"
      ]
    },
    {
      "cell_type": "code",
      "metadata": {
        "id": "-YN_6XAPQFtH",
        "colab_type": "code",
        "outputId": "c1bc8021-ec50-40d1-f91e-1f8c3b955557",
        "colab": {
          "base_uri": "https://localhost:8080/",
          "height": 68
        }
      },
      "source": [
        "from sklearn.metrics import mean_squared_error, mean_absolute_error\n",
        "mae = mean_absolute_error(y_test, y_predict)\n",
        "mse = mean_squared_error(y_test,y_predict)\n",
        "rmse = mse**(0.5)\n",
        "print(mae)\n",
        "print(mse)\n",
        "print(rmse)"
      ],
      "execution_count": 24,
      "outputs": [
        {
          "output_type": "stream",
          "text": [
            "7.2281486534308295\n",
            "79.8130516509743\n",
            "8.933815066978626\n"
          ],
          "name": "stdout"
        }
      ]
    },
    {
      "cell_type": "code",
      "metadata": {
        "id": "LoFc-he3bg4M",
        "colab_type": "code",
        "outputId": "213455bc-a65d-4256-f0b8-89c2aaf83914",
        "colab": {}
      },
      "source": [
        ""
      ],
      "execution_count": 0,
      "outputs": [
        {
          "output_type": "stream",
          "text": [
            "MAE: 7.228148653430838\n",
            "MSE: 79.81305165097461\n",
            "RMSE: 8.933815066978642\n"
          ],
          "name": "stdout"
        }
      ]
    },
    {
      "cell_type": "markdown",
      "metadata": {
        "id": "KSfMNuyfbg4P",
        "colab_type": "text"
      },
      "source": [
        "## Residuals\n",
        "\n",
        "You should have gotten a very good model with a good fit. Let's quickly explore the residuals to make sure everything was okay with our data. \n",
        "\n",
        "**17. Plot a histogram of the residuals and make sure it looks normally distributed. Use either seaborn distplot, or just plt.hist().**\n",
        "10pts"
      ]
    },
    {
      "cell_type": "code",
      "metadata": {
        "id": "CvzMQO91S9I9",
        "colab_type": "code",
        "outputId": "d63d08d8-fde9-4675-8e71-a57d7406ab13",
        "colab": {
          "base_uri": "https://localhost:8080/",
          "height": 300
        }
      },
      "source": [
        "sns.distplot(eco['Yearly Amount Spent'])"
      ],
      "execution_count": 25,
      "outputs": [
        {
          "output_type": "execute_result",
          "data": {
            "text/plain": [
              "<matplotlib.axes._subplots.AxesSubplot at 0x7f9f06e62400>"
            ]
          },
          "metadata": {
            "tags": []
          },
          "execution_count": 25
        },
        {
          "output_type": "display_data",
          "data": {
            "image/png": "[encoded data removed]",
            "text/plain": [
              "<Figure size 432x288 with 1 Axes>"
            ]
          },
          "metadata": {
            "tags": []
          }
        }
      ]
    },
    {
      "cell_type": "code",
      "metadata": {
        "id": "lmWXnqoDbg4Q",
        "colab_type": "code",
        "outputId": "66a44879-c541-4ae6-96e5-be8878ef60d9",
        "colab": {}
      },
      "source": [
        ""
      ],
      "execution_count": 0,
      "outputs": [
        {
          "output_type": "stream",
          "text": [
            "/home/dks/anaconda3/envs/py3/lib/python3.6/site-packages/matplotlib/axes/_axes.py:6462: UserWarning: The 'normed' kwarg is deprecated, and has been replaced by the 'density' kwarg.\n",
            "  warnings.warn(\"The 'normed' kwarg is deprecated, and has been \"\n"
          ],
          "name": "stderr"
        },
        {
          "output_type": "display_data",
          "data": {
            "image/png": "[encoded data removed]",
            "text/plain": [
              "<Figure size 432x288 with 1 Axes>"
            ]
          },
          "metadata": {
            "tags": []
          }
        }
      ]
    },
    {
      "cell_type": "markdown",
      "metadata": {
        "id": "Fd9q_b8sbg4W",
        "colab_type": "text"
      },
      "source": [
        "## Conclusion\n",
        "We still want to figure out the answer to the original question, do we focus our efforts on mobile app or website development? Or maybe that doesn't even really matter, and Membership Time is what is really important.  Let's see if we can interpret the coefficients at all to get an idea.\n",
        "\n",
        "**18. Recreate the dataframe below. **\n",
        "10pts"
      ]
    },
    {
      "cell_type": "code",
      "metadata": {
        "id": "VmdhWuviU2fk",
        "colab_type": "code",
        "outputId": "284ca5ff-1e25-48ea-b3cb-d7fae274d976",
        "colab": {
          "base_uri": "https://localhost:8080/",
          "height": 34
        }
      },
      "source": [
        "X.index"
      ],
      "execution_count": 26,
      "outputs": [
        {
          "output_type": "execute_result",
          "data": {
            "text/plain": [
              "RangeIndex(start=0, stop=500, step=1)"
            ]
          },
          "metadata": {
            "tags": []
          },
          "execution_count": 26
        }
      ]
    },
    {
      "cell_type": "code",
      "metadata": {
        "id": "880IWpa6T-Cu",
        "colab_type": "code",
        "outputId": "cfe5c2c7-09e4-4423-8cd6-4b39b93c1eec",
        "colab": {
          "base_uri": "https://localhost:8080/",
          "height": 111
        }
      },
      "source": [
        "d = [X.columns,lm.coef_]\n",
        "df = pd.DataFrame(data=d)\n",
        "df"
      ],
      "execution_count": 27,
      "outputs": [
        {
          "output_type": "execute_result",
          "data": {
            "text/html": [
              "<div>\n",
              "<style scoped>\n",
              "    .dataframe tbody tr th:only-of-type {\n",
              "        vertical-align: middle;\n",
              "    }\n",
              "\n",
              "    .dataframe tbody tr th {\n",
              "        vertical-align: top;\n",
              "    }\n",
              "\n",
              "    .dataframe thead th {\n",
              "        text-align: right;\n",
              "    }\n",
              "</style>\n",
              "<table border=\"1\" class=\"dataframe\">\n",
              "  <thead>\n",
              "    <tr style=\"text-align: right;\">\n",
              "      <th></th>\n",
              "      <th>0</th>\n",
              "      <th>1</th>\n",
              "      <th>2</th>\n",
              "      <th>3</th>\n",
              "    </tr>\n",
              "  </thead>\n",
              "  <tbody>\n",
              "    <tr>\n",
              "      <th>0</th>\n",
              "      <td>Avg. Session Length</td>\n",
              "      <td>Time on App</td>\n",
              "      <td>Time on Website</td>\n",
              "      <td>Length of Membership</td>\n",
              "    </tr>\n",
              "    <tr>\n",
              "      <th>1</th>\n",
              "      <td>25.9815</td>\n",
              "      <td>38.5902</td>\n",
              "      <td>0.190405</td>\n",
              "      <td>61.2791</td>\n",
              "    </tr>\n",
              "  </tbody>\n",
              "</table>\n",
              "</div>"
            ],
            "text/plain": [
              "                     0            1                2                     3\n",
              "0  Avg. Session Length  Time on App  Time on Website  Length of Membership\n",
              "1              25.9815      38.5902         0.190405               61.2791"
            ]
          },
          "metadata": {
            "tags": []
          },
          "execution_count": 27
        }
      ]
    },
    {
      "cell_type": "code",
      "metadata": {
        "id": "3Z-hPZ72bg4X",
        "colab_type": "code",
        "outputId": "b57d1570-3797-4970-b786-41843051c4e9",
        "colab": {}
      },
      "source": [
        ""
      ],
      "execution_count": 0,
      "outputs": [
        {
          "output_type": "execute_result",
          "data": {
            "text/html": [
              "<div>\n",
              "<style scoped>\n",
              "    .dataframe tbody tr th:only-of-type {\n",
              "        vertical-align: middle;\n",
              "    }\n",
              "\n",
              "    .dataframe tbody tr th {\n",
              "        vertical-align: top;\n",
              "    }\n",
              "\n",
              "    .dataframe thead th {\n",
              "        text-align: right;\n",
              "    }\n",
              "</style>\n",
              "<table border=\"1\" class=\"dataframe\">\n",
              "  <thead>\n",
              "    <tr style=\"text-align: right;\">\n",
              "      <th></th>\n",
              "      <th>Coeffecient</th>\n",
              "    </tr>\n",
              "  </thead>\n",
              "  <tbody>\n",
              "    <tr>\n",
              "      <th>Avg. Session Length</th>\n",
              "      <td>25.981550</td>\n",
              "    </tr>\n",
              "    <tr>\n",
              "      <th>Time on App</th>\n",
              "      <td>38.590159</td>\n",
              "    </tr>\n",
              "    <tr>\n",
              "      <th>Time on Website</th>\n",
              "      <td>0.190405</td>\n",
              "    </tr>\n",
              "    <tr>\n",
              "      <th>Length of Membership</th>\n",
              "      <td>61.279097</td>\n",
              "    </tr>\n",
              "  </tbody>\n",
              "</table>\n",
              "</div>"
            ],
            "text/plain": [
              "                      Coeffecient\n",
              "Avg. Session Length     25.981550\n",
              "Time on App             38.590159\n",
              "Time on Website          0.190405\n",
              "Length of Membership    61.279097"
            ]
          },
          "metadata": {
            "tags": []
          },
          "execution_count": 30
        }
      ]
    },
    {
      "cell_type": "markdown",
      "metadata": {
        "id": "K1Q7BzLWbg4i",
        "colab_type": "text"
      },
      "source": [
        "**19. How can you interpret these coefficients? **\n",
        "10pts"
      ]
    },
    {
      "cell_type": "markdown",
      "metadata": {
        "id": "nK8jkkUJbg4j",
        "colab_type": "text"
      },
      "source": [
        "Answer here"
      ]
    },
    {
      "cell_type": "markdown",
      "metadata": {
        "id": "iO_asAfRbg4k",
        "colab_type": "text"
      },
      "source": [
        "**20. Do you think the company should focus more on their mobile app or on their website?**\n",
        "10pts"
      ]
    },
    {
      "cell_type": "markdown",
      "metadata": {
        "id": "Q8hGufHebg4l",
        "colab_type": "text"
      },
      "source": [
        "Answer here\n",
        "Focus more on mobile app"
      ]
    },
    {
      "cell_type": "markdown",
      "metadata": {
        "id": "OM-5rRA9bg4m",
        "colab_type": "text"
      },
      "source": [
        "## Great Job!\n",
        "\n",
        "Congrats on your contract work! The company loved the insights! Let's move on."
      ]
    }
  ]
}